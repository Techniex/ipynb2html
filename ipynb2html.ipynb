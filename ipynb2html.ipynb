{
 "cells": [
  {
   "cell_type": "markdown",
   "metadata": {},
   "source": [
    "## User Input"
   ]
  },
  {
   "cell_type": "code",
   "execution_count": 1,
   "metadata": {},
   "outputs": [],
   "source": [
    "data_file = r'./test_jupiter.ipynb'\n",
    "config_file  = r'./ipynb2wp.json'"
   ]
  },
  {
   "cell_type": "markdown",
   "metadata": {},
   "source": [
    "Do Not Change after this line. Update all required Configs in config file."
   ]
  },
  {
   "cell_type": "markdown",
   "metadata": {},
   "source": [
    "## Read data and config file"
   ]
  },
  {
   "cell_type": "code",
   "execution_count": 2,
   "metadata": {},
   "outputs": [],
   "source": [
    "import json\n",
    "import markdown\n",
    "import re"
   ]
  },
  {
   "cell_type": "code",
   "execution_count": 3,
   "metadata": {},
   "outputs": [],
   "source": [
    "def read_files(data_file, config_file):\n",
    "    with open(data_file) as f:\n",
    "        data = json.load(f)\n",
    "    with open(config_file, 'r') as f:\n",
    "        cfg = json.load(f)\n",
    "    return [data, cfg]"
   ]
  },
  {
   "cell_type": "markdown",
   "metadata": {},
   "source": [
    "## Functions"
   ]
  },
  {
   "cell_type": "code",
   "execution_count": 4,
   "metadata": {},
   "outputs": [],
   "source": [
    "def ipynb_wp_md(source):\n",
    "    data = ''.join(source)\n",
    "    outval = markdown.markdown(data, output_format='html5')\n",
    "    return outval"
   ]
  },
  {
   "cell_type": "code",
   "execution_count": 5,
   "metadata": {},
   "outputs": [],
   "source": [
    "def ipynb_wp_code(code, cfg):\n",
    "    updating_code = ''.join(code)\n",
    "    mem = []\n",
    "    #TODO : Add comment highlighter -json\n",
    "    #TODO : Update colors to generic -json\n",
    "    if bool(int(cfg['code']['color'])):\n",
    "        for val in cfg['code']['priority']:\n",
    "            if cfg['code'][val]['keyword_type']== 'list':\n",
    "                keywords = [r'\\b'+key+r'\\b' for key in cfg['code'][val]['keywords']]\n",
    "            else:\n",
    "                key = '|'.join(cfg['code'][val]['keywords'])\n",
    "                keywords = re.findall(key, updating_code)\n",
    "            for key in keywords:\n",
    "                if cfg['code'][val]['keyword_type']== 'list':\n",
    "                    nkey = key.replace(r'\\b', '')\n",
    "                else:\n",
    "                    nkey = key\n",
    "                if val == 'operator':\n",
    "                    key = '\\\\'+key\n",
    "                updated_key = cfg['code'][val]['pre']+nkey+cfg['code'][val]['post']\n",
    "                incr = len(nkey) - 1\n",
    "                match = re.search(key, updating_code, re.S)\n",
    "                while (match):\n",
    "                    mem.append([match.start(), incr, updated_key])\n",
    "                    updating_code = re.sub(key, \" \", updating_code, 1)\n",
    "                    match = re.search(key, updating_code, re.S)\n",
    "        ins_array = list(updating_code)\n",
    "        for data in mem[::-1]:\n",
    "            ins_array[data[0]] = data[2]\n",
    "            for itr in range(0, data[1]):\n",
    "                ins_array.insert(data[0]+1, \"\")\n",
    "        updating_code = \"\".join(ins_array)\n",
    "    outdata = cfg['code']['block_pre']  + updating_code + cfg['code']['block_post'] \n",
    "    return outdata"
   ]
  },
  {
   "cell_type": "code",
   "execution_count": 6,
   "metadata": {},
   "outputs": [],
   "source": [
    "def ipynb_wp_image(data, cfg):\n",
    "    outdata = cfg['image']['block_pre']  + data + cfg['image']['block_post']\n",
    "    return outdata"
   ]
  },
  {
   "cell_type": "code",
   "execution_count": 7,
   "metadata": {},
   "outputs": [],
   "source": [
    "def ipynb_wp_performatted(data, cfg):\n",
    "    for count, val in enumerate(data):\n",
    "        if val.startswith(\"[<\"):\n",
    "            data[count] =\"\"\n",
    "    dval = \"\".join(data)\n",
    "    if dval == \"\":\n",
    "        outdata = \"\"\n",
    "    else:\n",
    "        outdata = cfg['performatted']['block_pre']  + dval + cfg['performatted']['block_post']\n",
    "    return outdata    "
   ]
  },
  {
   "cell_type": "code",
   "execution_count": 8,
   "metadata": {},
   "outputs": [],
   "source": [
    "def ipynb_wp_html(source, cfg):\n",
    "    data = \"\".join(source)\n",
    "    outval = \"\"\n",
    "    key = cfg['html-table']['keywords']\n",
    "    dval = re.findall(key, data, re.S)\n",
    "    for datas in dval:\n",
    "        if not datas.strip() == '':\n",
    "            outval = outval + cfg['html-table']['block_pre'] + datas + cfg['html-table']['block_post']\n",
    "    return outval"
   ]
  },
  {
   "cell_type": "code",
   "execution_count": 9,
   "metadata": {},
   "outputs": [],
   "source": [
    "def ipynb2body(data_file, config_file):\n",
    "    # Read  File\n",
    "    [dataout, cfg] = read_files(data_file, config_file)\n",
    "    outval = ''\n",
    "    for i in range(0, len(dataout['cells'])):\n",
    "        if dataout['cells'][i]['cell_type'] == 'markdown':\n",
    "            outval = outval + '\\n' + ipynb_wp_md(dataout['cells'][i]['source'])\n",
    "        elif dataout['cells'][i]['cell_type'] == 'code':\n",
    "            outval = outval + ipynb_wp_code(dataout['cells'][i]['source'], cfg)\n",
    "            for opc in dataout['cells'][i]['outputs']:\n",
    "                for key in opc['data']:\n",
    "                    if 'image' in key:\n",
    "                        outval = outval + ipynb_wp_image(opc['data'][key], cfg)\n",
    "                    elif 'html' in key:\n",
    "                        outval = outval + ipynb_wp_html(opc['data'][key], cfg)\n",
    "                    else:\n",
    "                        outval = outval + ipynb_wp_performatted(opc['data'][key], cfg)\n",
    "                    break\n",
    "        else:\n",
    "            pass\n",
    "    return outval             "
   ]
  },
  {
   "cell_type": "code",
   "execution_count": 10,
   "metadata": {},
   "outputs": [],
   "source": [
    "html = ipynb2body(data_file, config_file)\n",
    "with open(\"final.html\", \"w\") as f:\n",
    "    f.write(html)"
   ]
  },
  {
   "cell_type": "code",
   "execution_count": 10,
   "metadata": {},
   "outputs": [
    {
     "ename": "NameError",
     "evalue": "name 'data_file' is not defined",
     "output_type": "error",
     "traceback": [
      "\u001b[1;31m---------------------------------------------------------------------------\u001b[0m",
      "\u001b[1;31mNameError\u001b[0m                                 Traceback (most recent call last)",
      "\u001b[1;32m<ipython-input-10-765447a2da94>\u001b[0m in \u001b[0;36m<module>\u001b[1;34m\u001b[0m\n\u001b[1;32m----> 1\u001b[1;33m \u001b[0mdata_file\u001b[0m\u001b[1;33m\u001b[0m\u001b[1;33m\u001b[0m\u001b[0m\n\u001b[0m",
      "\u001b[1;31mNameError\u001b[0m: name 'data_file' is not defined"
     ]
    }
   ],
   "source": [
    "data_file"
   ]
  },
  {
   "cell_type": "code",
   "execution_count": 245,
   "metadata": {},
   "outputs": [
    {
     "data": {
      "text/plain": [
       "{'code': {'color': '1',\n",
       "  'custom_group1': {'keyword_type': 'list',\n",
       "   'keywords': ['as'],\n",
       "   'pre': \"<span class='has-inline-color has-light-green-cyan-color'>\",\n",
       "   'post': '</span>'},\n",
       "  'custom_group2': {'keyword_type': 'list',\n",
       "   'keywords': ['for',\n",
       "    'def',\n",
       "    'in',\n",
       "    'if',\n",
       "    'elif',\n",
       "    'else',\n",
       "    'while',\n",
       "    'return',\n",
       "    'import',\n",
       "    'not',\n",
       "    'and',\n",
       "    'or'],\n",
       "   'pre': \"<span class='has-inline-color has-vivid-green-cyan-color'><em>\",\n",
       "   'post': '</em></span>'},\n",
       "  'function': {'keyword_type': 'regex',\n",
       "   'keywords': ['\\\\s(.+?)\\\\('],\n",
       "   'pre': \"<span class='has-inline-color has-vivid-cyan-blue-color'>\",\n",
       "   'post': '</span>'},\n",
       "  'operator': {'keyword_type': 'regex',\n",
       "   'keywords': ['[=+-,*/<>]'],\n",
       "   'pre': \"<span class='has-inline-color has-vivid-red-color'>\",\n",
       "   'post': '</span>'},\n",
       "  'digit': {'keyword_type': 'regex',\n",
       "   'keywords': ['\\\\d+'],\n",
       "   'pre': \"<span class='has-inline-color has-luminous-vivid-amber-color'>\",\n",
       "   'post': '</span>'},\n",
       "  'string': {'keyword_type': 'regex',\n",
       "   'keywords': ['\\\\\"[^\\\\\"]+\\\\\"', \"\\\\'[^\\\\']+\\\\'\"],\n",
       "   'pre': \"<span class='has-inline-color has-luminous-vivid-orange-color'>\",\n",
       "   'post': '</span>'},\n",
       "  'priority': ['string',\n",
       "   'function',\n",
       "   'operator',\n",
       "   'digit',\n",
       "   'custom_group1',\n",
       "   'custom_group2'],\n",
       "  'block_pre': \"<pre class='wp-block-code'><code>\",\n",
       "  'block_post': '</code></pre>'},\n",
       " 'image': {'block_pre': \"<figure class='wp-block-image'><img src='data:image/png;base64,\",\n",
       "  'block_post': \"' alt=''/></figure>\"},\n",
       " 'performatted': {'block_pre': \"<pre class='wp-block-preformatted'>\",\n",
       "  'block_post': '</pre>'},\n",
       " 'html-table': {'keyword': '<table[^>]+>(.*?)</table>',\n",
       "  'block_pre': \"<figure class='wp-block-table'><table border='1'>\",\n",
       "  'block_post': '</table>'}}"
      ]
     },
     "execution_count": 245,
     "metadata": {},
     "output_type": "execute_result"
    }
   ],
   "source": [
    "cfg"
   ]
  },
  {
   "cell_type": "code",
   "execution_count": 231,
   "metadata": {},
   "outputs": [
    {
     "data": {
      "text/plain": [
       "'[=+-,*/<>]'"
      ]
     },
     "execution_count": 231,
     "metadata": {},
     "output_type": "execute_result"
    }
   ],
   "source": [
    "m"
   ]
  },
  {
   "cell_type": "code",
   "execution_count": 413,
   "metadata": {},
   "outputs": [],
   "source": [
    "[dataout, cfg] = read_files(data_file, config_file)"
   ]
  },
  {
   "cell_type": "code",
   "execution_count": 414,
   "metadata": {},
   "outputs": [
    {
     "data": {
      "text/plain": [
       "{'cells': [{'cell_type': 'markdown',\n",
       "   'metadata': {},\n",
       "   'source': ['## This is the main heading [H2]\\n']},\n",
       "  {'cell_type': 'markdown',\n",
       "   'metadata': {},\n",
       "   'source': ['*Lorem* ipsum dolor sit amet, **consectetur** adipiscing elit. Duis non hendrerit lectus, eu blandit massa. Sed ex tortor, cursus non dui sit amet, ullamcorper pulvinar mi. Nam accumsan est at tellus vestibulum, ut bibendum nibh ultrices. Nam varius bibendum turpis. Vivamus enim neque, consectetur non tempor vel, pellentesque et velit. Phasellus varius neque neque. Nulla quis erat sit amet nisl maximus tristique vel non velit. Integer sit amet pretium quam. Cras semper lectus a urna scelerisque, eget volutpat ante vestibulum. Etiam vel metus augue. Ut ultricies, metus eu ullamcorper ultrices, enim sapien viverra diam, sed imperdiet enim tellus at quam. Duis volutpat metus nec ultrices congue. Donec accumsan viverra ante, quis sodales justo sollicitudin ac. Integer dui mi, condimentum a lacus id, rhoncus sollicitudin felis. Vestibulum massa risus, euismod sit amet semper sit amet, pellentesque in ***nunc***.']},\n",
       "  {'cell_type': 'markdown',\n",
       "   'metadata': {},\n",
       "   'source': ['## Another Heading [H2]']},\n",
       "  {'cell_type': 'markdown',\n",
       "   'metadata': {},\n",
       "   'source': ['### Sub-heading [H3]']},\n",
       "  {'cell_type': 'markdown',\n",
       "   'metadata': {},\n",
       "   'source': ['#### Sub-heading for Ordered list [H4]']},\n",
       "  {'cell_type': 'markdown',\n",
       "   'metadata': {},\n",
       "   'source': ['1. Suspendisse maximus diam sodales sem tempor, at fermentum leo blandit.\\n',\n",
       "    '2. Donec lorem est, tempor sit amet diam quis, fermentum efficitur diam.\\n',\n",
       "    '    1. Aliquam ultricies, arcu at lobortis bibendum, orci mauris placerat libero, at mattis metus dolor eu est.\\n',\n",
       "    '    2. Proin arcu urna, iaculis quis aliquam a, tristique nec neque.\\n',\n",
       "    '3. Ut dictum quis quam quis congue.']},\n",
       "  {'cell_type': 'markdown',\n",
       "   'metadata': {},\n",
       "   'source': ['##### Subheading for blockquote [H5]']},\n",
       "  {'cell_type': 'markdown',\n",
       "   'metadata': {},\n",
       "   'source': ['>Cras ultricies nisl elit, in commodo sem lobortis egestas.']},\n",
       "  {'cell_type': 'markdown',\n",
       "   'metadata': {},\n",
       "   'source': ['###### Subheading for Unordered List [H6]']},\n",
       "  {'cell_type': 'markdown',\n",
       "   'metadata': {},\n",
       "   'source': ['* Quisque accumsan diam in dolor volutpat, eget porta dui cursus.\\n',\n",
       "    '* Curabitur viverra mollis leo, sit amet facilisis enim scelerisque ut.\\n',\n",
       "    '* Vestibulum turpis nulla, cursus a auctor sed, consequat euismod leo.\\n',\n",
       "    '> Nunc elementum massa nec lacus fringilla pellentesque.\\n',\n",
       "    '* Integer sit amet mi varius, rhoncus justo non, imperdiet massa.\\n',\n",
       "    '    * Suspendisse malesuada interdum elementum.\\n',\n",
       "    '    > Nullam eleifend dignissim eros.\\n',\n",
       "    '    * Nulla ut commodo felis.\\n',\n",
       "    '* Cras a interdum nunc.']},\n",
       "  {'cell_type': 'markdown',\n",
       "   'metadata': {},\n",
       "   'source': ['## Simple code example [H2]']},\n",
       "  {'cell_type': 'code',\n",
       "   'execution_count': 85,\n",
       "   'metadata': {},\n",
       "   'outputs': [{'data': {'text/plain': ['5']},\n",
       "     'execution_count': 85,\n",
       "     'metadata': {},\n",
       "     'output_type': 'execute_result'}],\n",
       "   'source': ['2+3']},\n",
       "  {'cell_type': 'markdown',\n",
       "   'metadata': {},\n",
       "   'source': ['## Plot Example [H2]']},\n",
       "  {'cell_type': 'code',\n",
       "   'execution_count': 1,\n",
       "   'metadata': {},\n",
       "   'outputs': [{'data': {'text/plain': ['[<matplotlib.lines.Line2D at 0x2abdf1daf48>]']},\n",
       "     'execution_count': 1,\n",
       "     'metadata': {},\n",
       "     'output_type': 'execute_result'},\n",
       "    {'data': {'image/png': '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\\n',\n",
       "      'text/plain': ['<Figure size 432x288 with 1 Axes>']},\n",
       "     'metadata': {'needs_background': 'light'},\n",
       "     'output_type': 'display_data'}],\n",
       "   'source': ['x= [1,2,3,4]\\n',\n",
       "    'y= [5,6,7,8]\\n',\n",
       "    'import matplotlib.pyplot as plt\\n',\n",
       "    'plt.plot(x,y)']},\n",
       "  {'cell_type': 'markdown',\n",
       "   'metadata': {},\n",
       "   'source': ['## Table Example [H2]']},\n",
       "  {'cell_type': 'code',\n",
       "   'execution_count': 76,\n",
       "   'metadata': {},\n",
       "   'outputs': [{'data': {'text/html': ['<div>\\n',\n",
       "       '<style scoped>\\n',\n",
       "       '    .dataframe tbody tr th:only-of-type {\\n',\n",
       "       '        vertical-align: middle;\\n',\n",
       "       '    }\\n',\n",
       "       '\\n',\n",
       "       '    .dataframe tbody tr th {\\n',\n",
       "       '        vertical-align: top;\\n',\n",
       "       '    }\\n',\n",
       "       '\\n',\n",
       "       '    .dataframe thead th {\\n',\n",
       "       '        text-align: right;\\n',\n",
       "       '    }\\n',\n",
       "       '</style>\\n',\n",
       "       '<table border=\"1\" class=\"dataframe\">\\n',\n",
       "       '  <thead>\\n',\n",
       "       '    <tr style=\"text-align: right;\">\\n',\n",
       "       '      <th></th>\\n',\n",
       "       '      <th>Name</th>\\n',\n",
       "       '      <th>Age</th>\\n',\n",
       "       '    </tr>\\n',\n",
       "       '  </thead>\\n',\n",
       "       '  <tbody>\\n',\n",
       "       '    <tr>\\n',\n",
       "       '      <th>0</th>\\n',\n",
       "       '      <td>Alex</td>\\n',\n",
       "       '      <td>10</td>\\n',\n",
       "       '    </tr>\\n',\n",
       "       '    <tr>\\n',\n",
       "       '      <th>1</th>\\n',\n",
       "       '      <td>Bob</td>\\n',\n",
       "       '      <td>12</td>\\n',\n",
       "       '    </tr>\\n',\n",
       "       '    <tr>\\n',\n",
       "       '      <th>2</th>\\n',\n",
       "       '      <td>Clarke</td>\\n',\n",
       "       '      <td>13</td>\\n',\n",
       "       '    </tr>\\n',\n",
       "       '  </tbody>\\n',\n",
       "       '</table>\\n',\n",
       "       '</div>'],\n",
       "      'text/plain': ['     Name  Age\\n',\n",
       "       '0    Alex   10\\n',\n",
       "       '1     Bob   12\\n',\n",
       "       '2  Clarke   13']},\n",
       "     'execution_count': 76,\n",
       "     'metadata': {},\n",
       "     'output_type': 'execute_result'}],\n",
       "   'source': ['import pandas as pd\\n',\n",
       "    \"data = [['Alex',10],['Bob',12],['Clarke',13]]\\n\",\n",
       "    \"df = pd.DataFrame(data,columns=['Name','Age'])\\n\",\n",
       "    'df']}],\n",
       " 'metadata': {'kernelspec': {'display_name': 'Python 3',\n",
       "   'language': 'python',\n",
       "   'name': 'python3'},\n",
       "  'language_info': {'codemirror_mode': {'name': 'ipython', 'version': 3},\n",
       "   'file_extension': '.py',\n",
       "   'mimetype': 'text/x-python',\n",
       "   'name': 'python',\n",
       "   'nbconvert_exporter': 'python',\n",
       "   'pygments_lexer': 'ipython3',\n",
       "   'version': '3.7.7'}},\n",
       " 'nbformat': 4,\n",
       " 'nbformat_minor': 4}"
      ]
     },
     "execution_count": 414,
     "metadata": {},
     "output_type": "execute_result"
    }
   ],
   "source": [
    "dataout"
   ]
  },
  {
   "cell_type": "code",
   "execution_count": null,
   "metadata": {},
   "outputs": [],
   "source": []
  }
 ],
 "metadata": {
  "kernelspec": {
   "display_name": "Python 3",
   "language": "python",
   "name": "python3"
  },
  "language_info": {
   "codemirror_mode": {
    "name": "ipython",
    "version": 3
   },
   "file_extension": ".py",
   "mimetype": "text/x-python",
   "name": "python",
   "nbconvert_exporter": "python",
   "pygments_lexer": "ipython3",
   "version": "3.7.7"
  }
 },
 "nbformat": 4,
 "nbformat_minor": 4
}
